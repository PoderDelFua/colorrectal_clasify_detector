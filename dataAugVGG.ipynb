{
  "cells": [
    {
      "cell_type": "code",
      "execution_count": null,
      "metadata": {
        "colab": {
          "base_uri": "https://localhost:8080/"
        },
        "id": "4wPoEtpr5hDp",
        "outputId": "3ec383b4-d027-4823-c186-2a22a034739a"
      },
      "outputs": [
        {
          "name": "stdout",
          "output_type": "stream",
          "text": [
            "Mounted at /content/drive\n"
          ]
        }
      ],
      "source": [
        "from google.colab import drive\n",
        "drive.mount('/content/drive', force_remount=True)\n",
        "\n",
        "import os\n",
        "import random\n",
        "import shutil\n",
        "import cv2\n",
        "import albumentations as A\n",
        "from tqdm import tqdm\n",
        "\n",
        "# 1. Configuración\n",
        "ADENOMA_IMG = '/content/drive/MyDrive/TFG/colonoscopias/Adenomas'\n",
        "SERRADO_IMG = '/content/drive/MyDrive/TFG/colonoscopias/Serrados'\n",
        "\n",
        "OUT_DIR = '/content/drive/MyDrive/TFG/dataset_clasificacion'\n",
        "for split in ['train', 'val', 'test']:\n",
        "    os.makedirs(os.path.join(OUT_DIR, split, 'Adenoma'), exist_ok=True)\n",
        "    os.makedirs(os.path.join(OUT_DIR, split, 'Serrado'), exist_ok=True)\n",
        "\n"
      ]
    },
    {
      "cell_type": "code",
      "execution_count": null,
      "metadata": {
        "colab": {
          "base_uri": "https://localhost:8080/"
        },
        "id": "KTzYeHyH5kWX",
        "outputId": "67c17649-c4b0-4629-9145-25e6305121d4"
      },
      "outputs": [
        {
          "name": "stderr",
          "output_type": "stream",
          "text": [
            "/usr/local/lib/python3.11/dist-packages/albumentations/core/validation.py:87: UserWarning: ShiftScaleRotate is a special case of Affine transform. Please use Affine transform instead.\n",
            "  original_init(self, **validated_kwargs)\n",
            "<ipython-input-2-a6336092680e>:11: UserWarning: Argument(s) 'max_holes, max_height, max_width, fill_value' are not valid for transform CoarseDropout\n",
            "  A.CoarseDropout(max_holes=4, max_height=16, max_width=16, fill_value=0, p=0.2)\n"
          ]
        }
      ],
      "source": [
        "# 2. Aumentaciones\n",
        "augment_transform = A.Compose([\n",
        "    A.HorizontalFlip(p=0.5),\n",
        "    A.RandomBrightnessContrast(0.2, 0.2, p=0.5),\n",
        "    A.Rotate(limit=15, p=0.5),\n",
        "    A.HueSaturationValue(hue_shift_limit=20, sat_shift_limit=30, val_shift_limit=20, p=0.3),\n",
        "    A.ShiftScaleRotate(shift_limit=0.1, scale_limit=0.1, rotate_limit=0, border_mode=0, p=0.5),\n",
        "    A.Affine(shear=(-10, 10), p=0.3),\n",
        "    A.CoarseDropout(max_holes=4, max_height=16, max_width=16, fill_value=0, p=0.2)\n",
        "])\n",
        "\n"
      ]
    },
    {
      "cell_type": "code",
      "execution_count": null,
      "metadata": {
        "id": "3B3WhnXI5nfA"
      },
      "outputs": [],
      "source": [
        "# 3. División de datos\n",
        "def split_data(file_list, train_ratio=0.7, val_ratio=0.2):\n",
        "    random.shuffle(file_list)\n",
        "    n = len(file_list)\n",
        "    n_train = int(n * train_ratio)\n",
        "    n_val = int(n * val_ratio)\n",
        "    return file_list[:n_train], file_list[n_train:n_train+n_val], file_list[n_train+n_val:]\n",
        "\n",
        "# Listar imágenes\n",
        "def list_images(folder):\n",
        "    return [os.path.join(folder, f) for f in os.listdir(folder) if f.lower().endswith(('.jpg', '.png', '.jpeg'))]\n",
        "\n",
        "adenoma_imgs = list_images(ADENOMA_IMG)\n",
        "serrado_imgs = list_images(SERRADO_IMG)\n",
        "\n",
        "ade_train, ade_val, ade_test = split_data(adenoma_imgs)\n",
        "ser_train, ser_val, ser_test = split_data(serrado_imgs)\n",
        "\n"
      ]
    },
    {
      "cell_type": "code",
      "execution_count": null,
      "metadata": {
        "id": "tpYlDOgO5oup"
      },
      "outputs": [],
      "source": [
        "# 4. Guardar con aumentos\n",
        "def save_augmented(img_paths, label, split, n_aug=3):\n",
        "    out_path = os.path.join(OUT_DIR, split, label)\n",
        "    for img_path in tqdm(img_paths, desc=f\"{label} {split}\"):\n",
        "        base = os.path.splitext(os.path.basename(img_path))[0]\n",
        "        img_bgr = cv2.imread(img_path)\n",
        "        if img_bgr is None:\n",
        "            continue\n",
        "        img_rgb = cv2.cvtColor(img_bgr, cv2.COLOR_BGR2RGB)\n",
        "\n",
        "        # Guardar original\n",
        "        dst_path = os.path.join(out_path, base + '.jpg')\n",
        "        cv2.imwrite(dst_path, img_bgr)\n",
        "\n",
        "        # Solo aumentar en train\n",
        "        if split == 'train':\n",
        "            for i in range(n_aug):\n",
        "                transformed = augment_transform(image=img_rgb)\n",
        "                aug_img = cv2.cvtColor(transformed['image'], cv2.COLOR_RGB2BGR)\n",
        "                aug_path = os.path.join(out_path, f\"{base}_aug{i}.jpg\")\n",
        "                cv2.imwrite(aug_path, aug_img)\n",
        "\n"
      ]
    },
    {
      "cell_type": "code",
      "execution_count": null,
      "metadata": {
        "colab": {
          "base_uri": "https://localhost:8080/"
        },
        "id": "bwLgTEOs5pdw",
        "outputId": "f9e1702f-0e26-48bb-ce8e-524a82cdaa48"
      },
      "outputs": [
        {
          "name": "stderr",
          "output_type": "stream",
          "text": [
            "Adenoma train: 100%|██████████| 214/214 [00:32<00:00,  6.54it/s]\n",
            "Adenoma val: 100%|██████████| 61/61 [00:02<00:00, 25.88it/s]\n",
            "Adenoma test: 100%|██████████| 32/32 [00:02<00:00, 10.77it/s]\n",
            "Serrado train: 100%|██████████| 207/207 [03:09<00:00,  1.09it/s]\n",
            "Serrado val: 100%|██████████| 59/59 [00:50<00:00,  1.18it/s]\n",
            "Serrado test: 100%|██████████| 30/30 [00:22<00:00,  1.32it/s]"
          ]
        },
        {
          "name": "stdout",
          "output_type": "stream",
          "text": [
            "✅ Dataset de clasificación listo con aumentaciones.\n"
          ]
        },
        {
          "name": "stderr",
          "output_type": "stream",
          "text": [
            "\n"
          ]
        }
      ],
      "source": [
        "# 5. Ejecutar todo\n",
        "save_augmented(ade_train, 'Adenoma', 'train')\n",
        "save_augmented(ade_val, 'Adenoma', 'val', n_aug=0)\n",
        "save_augmented(ade_test, 'Adenoma', 'test', n_aug=0)\n",
        "\n",
        "save_augmented(ser_train, 'Serrado', 'train')\n",
        "save_augmented(ser_val, 'Serrado', 'val', n_aug=0)\n",
        "save_augmented(ser_test, 'Serrado', 'test', n_aug=0)\n",
        "\n",
        "print(\"✅ Dataset de clasificación listo con aumentaciones.\")\n"
      ]
    }
  ],
  "metadata": {
    "accelerator": "GPU",
    "colab": {
      "gpuType": "T4",
      "provenance": []
    },
    "kernelspec": {
      "display_name": "Python 3",
      "name": "python3"
    },
    "language_info": {
      "name": "python"
    }
  },
  "nbformat": 4,
  "nbformat_minor": 0
}
